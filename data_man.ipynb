{
 "cells": [
  {
   "cell_type": "code",
   "execution_count": 140,
   "metadata": {},
   "outputs": [],
   "source": [
    "import pandas as pd"
   ]
  },
  {
   "cell_type": "code",
   "execution_count": 141,
   "metadata": {},
   "outputs": [],
   "source": [
    "data = pd.read_csv(\"./data/partition_database.csv\")"
   ]
  },
  {
   "cell_type": "code",
   "execution_count": 142,
   "metadata": {},
   "outputs": [],
   "source": [
    "data['full_name'] = data['family_name'] + \" \" + data['given_name']"
   ]
  },
  {
   "cell_type": "code",
   "execution_count": 143,
   "metadata": {},
   "outputs": [],
   "source": [
    "data.drop([\n",
    "\t'author_name', \n",
    "\t'line', \n",
    "\t'violence', \n",
    "\t'harmony', \n",
    "\t'conflict', \n",
    "\t'vitality', \n",
    "\t'cause_of_death', \n",
    "\t'non-human', \n",
    "\t'char_story_title', \n",
    "\t'wkt', \n",
    "\t'gender_author',\n",
    "\t# 'start_page_event',\n",
    "\t'temporality', \n",
    "\t# 'text_title', \n",
    "\t'interaction', \n",
    "\t'narrative_status',\n",
    "\t'specific_interaction',\n",
    "\t'nickname', \n",
    "\t'location_modality',\n",
    "\t'presentmentioned', \n",
    "\t'ontology', \n",
    "\t'collection_id',\n",
    "\t'collection_recordtitle',\n",
    "\t'birth_date',\n",
    "\t'end_page_event',\n",
    "\t# 'page_event_number',\n",
    "\t'gender',\n",
    "\t'religious_conversion',\n",
    "\t'mentioned'\n",
    "], inplace=True, axis=1)"
   ]
  },
  {
   "cell_type": "code",
   "execution_count": 145,
   "metadata": {},
   "outputs": [
    {
     "name": "stdout",
     "output_type": "stream",
     "text": [
      "text_title                                          Train to Pakistan\n",
      "event_id                                                          126\n",
      "start_page_event                                                   12\n",
      "page_event_number                                                   1\n",
      "text_place_title                    Sutlej River in Train to Pakistan\n",
      "character_id                                                    112.0\n",
      "family_name                                                     Singh\n",
      "given_name                                                     Juggut\n",
      "page_first_mentioned                                              9.0\n",
      "number                                                         Single\n",
      "religion                                                         Sikh\n",
      "relig_att_char                                            Speculation\n",
      "country_of_birth                                                  NaN\n",
      "place_name                                               Sutlej River\n",
      "location_religion                                             Unknown\n",
      "relig_att_loc              Other-identified.Narrator other-attributed\n",
      "geolocation                                                   CREATED\n",
      "location_name                                              Mano Majra\n",
      "location_country                                                India\n",
      "author_birth_location                                          Hadali\n",
      "country_of_birth_author                                      Pakistan\n",
      "text_place_id                                                     128\n",
      "location_id                                                     119.0\n",
      "author_id                                                          26\n",
      "author_birth_place_id                                              27\n",
      "full_name                                                Singh Juggut\n",
      "Name: 0, dtype: object\n"
     ]
    }
   ],
   "source": [
    "print(data.iloc[0])"
   ]
  },
  {
   "cell_type": "code",
   "execution_count": 146,
   "metadata": {},
   "outputs": [],
   "source": [
    "data['event_order'] = data['start_page_event'] + data['page_event_number'] / 100"
   ]
  },
  {
   "cell_type": "code",
   "execution_count": 147,
   "metadata": {},
   "outputs": [
    {
     "data": {
      "text/plain": [
       "0       Mano Majra\n",
       "580            NaN\n",
       "582            NaN\n",
       "585            NaN\n",
       "590            NaN\n",
       "607            NaN\n",
       "609            NaN\n",
       "614            NaN\n",
       "618            NaN\n",
       "629            NaN\n",
       "666            NaN\n",
       "667            NaN\n",
       "669     Mano Majra\n",
       "670     Mano Majra\n",
       "1205           NaN\n",
       "1220           NaN\n",
       "1271           NaN\n",
       "1467           NaN\n",
       "1476           NaN\n",
       "1485           NaN\n",
       "1497           NaN\n",
       "1951           NaN\n",
       "1960           NaN\n",
       "1963           NaN\n",
       "4142           NaN\n",
       "4191           NaN\n",
       "4213           NaN\n",
       "4222           NaN\n",
       "4226           NaN\n",
       "4310           NaN\n",
       "4324           NaN\n",
       "4335           NaN\n",
       "4337           NaN\n",
       "4388           NaN\n",
       "4415           NaN\n",
       "4422           NaN\n",
       "4494           NaN\n",
       "4495           NaN\n",
       "Name: location_name, dtype: object"
      ]
     },
     "execution_count": 147,
     "metadata": {},
     "output_type": "execute_result"
    }
   ],
   "source": [
    "data[data['character_id'] == 112]['location_name']"
   ]
  },
  {
   "cell_type": "code",
   "execution_count": 148,
   "metadata": {},
   "outputs": [
    {
     "data": {
      "text/plain": [
       "'India'"
      ]
     },
     "execution_count": 148,
     "metadata": {},
     "output_type": "execute_result"
    }
   ],
   "source": [
    "# data[(data[data['character_id'] == 112]) and (data['event_order'] == min(data[data['character_id'] == 112]['event_order']))]\n",
    "_df = data[data['character_id'] == 112]\n",
    "_df = _df.dropna(subset=['location_country'])\n",
    "_df[_df['event_order'] == min(_df['event_order'])]['location_country'][0]"
   ]
  },
  {
   "cell_type": "code",
   "execution_count": 162,
   "metadata": {},
   "outputs": [],
   "source": [
    "data.dropna(subset=['location_country', 'location_name', 'character_id'], inplace=True)\n",
    "\n",
    "obj_start_country = {}\n",
    "obj_start_place = {}\n",
    "obj_end_country = {}\n",
    "obj_end_place = {}\n",
    "\n",
    "_df = data.groupby(by=data['character_id'].tolist())\n",
    "for char_id, event_order in _df['event_order'].min().iteritems():\n",
    "\t_df_char = data[data['character_id'] == char_id]\n",
    "\t# print(char_id, _df_char[_df_char['event_order'] == event_order].iloc[0]['location_country'])\n",
    "\tobj_start_country[char_id] = _df_char[_df_char['event_order'] == event_order].iloc[0]['location_country']\n",
    "\tobj_start_place[char_id] = _df_char[_df_char['event_order'] == event_order].iloc[0]['location_name']\n",
    "\n",
    "for char_id, event_order in _df['event_order'].max().iteritems():\n",
    "\t_df_char = data[data['character_id'] == char_id]\n",
    "\t# print(_df_char[_df_char['event_order'] == event_order].iloc[0]['location_country'])\n",
    "\tobj_end_country[char_id] = _df_char[_df_char['event_order'] == event_order].iloc[0]['location_country']\n",
    "\tobj_end_place[char_id] = _df_char[_df_char['event_order'] == event_order].iloc[0]['location_name']"
   ]
  },
  {
   "cell_type": "code",
   "execution_count": 163,
   "metadata": {},
   "outputs": [],
   "source": [
    "data['initial_country'] = data.apply(lambda row: obj_start_country[row.character_id], axis = 1)\n",
    "data['final_country'] = data.apply(lambda row: obj_end_country[row.character_id], axis = 1)\n",
    "\n",
    "data['initial_place'] = data.apply(lambda row: obj_start_place[row.character_id], axis=1)\n",
    "data['final_place'] = data.apply(lambda row: obj_end_place[row.character_id], axis = 1)"
   ]
  },
  {
   "cell_type": "code",
   "execution_count": 168,
   "metadata": {},
   "outputs": [
    {
     "data": {
      "text/html": [
       "<div>\n",
       "<style scoped>\n",
       "    .dataframe tbody tr th:only-of-type {\n",
       "        vertical-align: middle;\n",
       "    }\n",
       "\n",
       "    .dataframe tbody tr th {\n",
       "        vertical-align: top;\n",
       "    }\n",
       "\n",
       "    .dataframe thead th {\n",
       "        text-align: right;\n",
       "    }\n",
       "</style>\n",
       "<table border=\"1\" class=\"dataframe\">\n",
       "  <thead>\n",
       "    <tr style=\"text-align: right;\">\n",
       "      <th></th>\n",
       "      <th>text_title</th>\n",
       "      <th>event_order</th>\n",
       "      <th>full_name</th>\n",
       "      <th>initial_country</th>\n",
       "      <th>final_country</th>\n",
       "      <th>initial_place</th>\n",
       "      <th>final_place</th>\n",
       "    </tr>\n",
       "  </thead>\n",
       "  <tbody>\n",
       "    <tr>\n",
       "      <th>0</th>\n",
       "      <td>Train to Pakistan</td>\n",
       "      <td>12.01</td>\n",
       "      <td>Singh Juggut</td>\n",
       "      <td>India</td>\n",
       "      <td>India</td>\n",
       "      <td>Mano Majra</td>\n",
       "      <td>Mano Majra</td>\n",
       "    </tr>\n",
       "    <tr>\n",
       "      <th>1</th>\n",
       "      <td>Train to Pakistan</td>\n",
       "      <td>12.01</td>\n",
       "      <td>Nooran Unknown</td>\n",
       "      <td>India</td>\n",
       "      <td>India</td>\n",
       "      <td>Mano Majra</td>\n",
       "      <td>Mano Majra</td>\n",
       "    </tr>\n",
       "    <tr>\n",
       "      <th>14</th>\n",
       "      <td>Tamas</td>\n",
       "      <td>27.01</td>\n",
       "      <td>Deputy Commissioner Richard</td>\n",
       "      <td>Pakistan</td>\n",
       "      <td>Pakistan</td>\n",
       "      <td>Hindu Kush</td>\n",
       "      <td>Rawalpindi</td>\n",
       "    </tr>\n",
       "    <tr>\n",
       "      <th>15</th>\n",
       "      <td>Tamas</td>\n",
       "      <td>27.01</td>\n",
       "      <td>Richard's wife Liza</td>\n",
       "      <td>Pakistan</td>\n",
       "      <td>Pakistan</td>\n",
       "      <td>Hindu Kush</td>\n",
       "      <td>Hindu Kush</td>\n",
       "    </tr>\n",
       "    <tr>\n",
       "      <th>25</th>\n",
       "      <td>Sunlight on a Broken Column</td>\n",
       "      <td>156.01</td>\n",
       "      <td>Viceroy Unknown</td>\n",
       "      <td>India</td>\n",
       "      <td>India</td>\n",
       "      <td>Lucknow University</td>\n",
       "      <td>Lucknow University</td>\n",
       "    </tr>\n",
       "    <tr>\n",
       "      <th>...</th>\n",
       "      <td>...</td>\n",
       "      <td>...</td>\n",
       "      <td>...</td>\n",
       "      <td>...</td>\n",
       "      <td>...</td>\n",
       "      <td>...</td>\n",
       "      <td>...</td>\n",
       "    </tr>\n",
       "    <tr>\n",
       "      <th>5087</th>\n",
       "      <td>A Life Long Ago</td>\n",
       "      <td>62.03</td>\n",
       "      <td>bhai Acchar</td>\n",
       "      <td>Bangladesh</td>\n",
       "      <td>Bangladesh</td>\n",
       "      <td>Digpait</td>\n",
       "      <td>Digpait</td>\n",
       "    </tr>\n",
       "    <tr>\n",
       "      <th>5089</th>\n",
       "      <td>The Price of Freedom</td>\n",
       "      <td>45.01</td>\n",
       "      <td>Ali Shahzada Ghulam</td>\n",
       "      <td>India</td>\n",
       "      <td>India</td>\n",
       "      <td>Bombay</td>\n",
       "      <td>Bombay</td>\n",
       "    </tr>\n",
       "    <tr>\n",
       "      <th>5090</th>\n",
       "      <td>The Price of Freedom</td>\n",
       "      <td>47.01</td>\n",
       "      <td>Wife of Shahzada Ghulam Ali Nigar</td>\n",
       "      <td>India</td>\n",
       "      <td>India</td>\n",
       "      <td>Amritsar</td>\n",
       "      <td>Bombay</td>\n",
       "    </tr>\n",
       "    <tr>\n",
       "      <th>5091</th>\n",
       "      <td>The Price of Freedom</td>\n",
       "      <td>51.01</td>\n",
       "      <td>Young girl Unnamed</td>\n",
       "      <td>India</td>\n",
       "      <td>India</td>\n",
       "      <td>Jallianwala Bagh</td>\n",
       "      <td>Jallianwala Bagh</td>\n",
       "    </tr>\n",
       "    <tr>\n",
       "      <th>5093</th>\n",
       "      <td>A Tale of 1947</td>\n",
       "      <td>125.01</td>\n",
       "      <td>Friend of Sehai Sultana</td>\n",
       "      <td>India</td>\n",
       "      <td>India</td>\n",
       "      <td>Bombay</td>\n",
       "      <td>Bombay</td>\n",
       "    </tr>\n",
       "  </tbody>\n",
       "</table>\n",
       "<p>2440 rows × 7 columns</p>\n",
       "</div>"
      ],
      "text/plain": [
       "                       text_title  event_order  \\\n",
       "0               Train to Pakistan        12.01   \n",
       "1               Train to Pakistan        12.01   \n",
       "14                          Tamas        27.01   \n",
       "15                          Tamas        27.01   \n",
       "25    Sunlight on a Broken Column       156.01   \n",
       "...                           ...          ...   \n",
       "5087              A Life Long Ago        62.03   \n",
       "5089         The Price of Freedom        45.01   \n",
       "5090         The Price of Freedom        47.01   \n",
       "5091         The Price of Freedom        51.01   \n",
       "5093               A Tale of 1947       125.01   \n",
       "\n",
       "                              full_name initial_country final_country  \\\n",
       "0                          Singh Juggut           India         India   \n",
       "1                        Nooran Unknown           India         India   \n",
       "14          Deputy Commissioner Richard        Pakistan      Pakistan   \n",
       "15                  Richard's wife Liza        Pakistan      Pakistan   \n",
       "25                      Viceroy Unknown           India         India   \n",
       "...                                 ...             ...           ...   \n",
       "5087                        bhai Acchar      Bangladesh    Bangladesh   \n",
       "5089                Ali Shahzada Ghulam           India         India   \n",
       "5090  Wife of Shahzada Ghulam Ali Nigar           India         India   \n",
       "5091                 Young girl Unnamed           India         India   \n",
       "5093            Friend of Sehai Sultana           India         India   \n",
       "\n",
       "           initial_place         final_place  \n",
       "0             Mano Majra          Mano Majra  \n",
       "1             Mano Majra          Mano Majra  \n",
       "14            Hindu Kush          Rawalpindi  \n",
       "15            Hindu Kush          Hindu Kush  \n",
       "25    Lucknow University  Lucknow University  \n",
       "...                  ...                 ...  \n",
       "5087             Digpait             Digpait  \n",
       "5089              Bombay              Bombay  \n",
       "5090            Amritsar              Bombay  \n",
       "5091    Jallianwala Bagh    Jallianwala Bagh  \n",
       "5093              Bombay              Bombay  \n",
       "\n",
       "[2440 rows x 7 columns]"
      ]
     },
     "execution_count": 168,
     "metadata": {},
     "output_type": "execute_result"
    }
   ],
   "source": [
    "data.dtypes\n",
    "data[['text_title', 'event_order', 'full_name', 'initial_country', 'final_country', 'initial_place', 'final_place']]"
   ]
  },
  {
   "cell_type": "code",
   "execution_count": 169,
   "metadata": {},
   "outputs": [],
   "source": [
    "data['has_changed'] = data['initial_country'] != data['location_country']"
   ]
  },
  {
   "cell_type": "code",
   "execution_count": 165,
   "metadata": {},
   "outputs": [],
   "source": [
    "data['has_immigrated'] = data['initial_country'] != data['final_country']"
   ]
  },
  {
   "cell_type": "code",
   "execution_count": 166,
   "metadata": {},
   "outputs": [
    {
     "name": "stdout",
     "output_type": "stream",
     "text": [
      "2072\n",
      "368\n"
     ]
    }
   ],
   "source": [
    "print(len(data[data['has_immigrated'] == False]))\n",
    "print(len(data[data['has_immigrated'] == True]))"
   ]
  },
  {
   "cell_type": "code",
   "execution_count": 167,
   "metadata": {},
   "outputs": [
    {
     "data": {
      "text/plain": [
       "text_title                  object\n",
       "event_id                     int64\n",
       "start_page_event             int64\n",
       "page_event_number            int64\n",
       "text_place_title            object\n",
       "character_id               float64\n",
       "family_name                 object\n",
       "given_name                  object\n",
       "page_first_mentioned       float64\n",
       "number                      object\n",
       "religion                    object\n",
       "relig_att_char              object\n",
       "country_of_birth            object\n",
       "place_name                  object\n",
       "location_religion           object\n",
       "relig_att_loc               object\n",
       "geolocation                 object\n",
       "location_name               object\n",
       "location_country            object\n",
       "author_birth_location       object\n",
       "country_of_birth_author     object\n",
       "text_place_id                int64\n",
       "location_id                float64\n",
       "author_id                    int64\n",
       "author_birth_place_id        int64\n",
       "full_name                   object\n",
       "event_order                float64\n",
       "initial_country             object\n",
       "final_country               object\n",
       "initial_place               object\n",
       "final_place                 object\n",
       "has_immigrated                bool\n",
       "dtype: object"
      ]
     },
     "execution_count": 167,
     "metadata": {},
     "output_type": "execute_result"
    }
   ],
   "source": [
    "data.dtypes"
   ]
  },
  {
   "cell_type": "code",
   "execution_count": null,
   "metadata": {},
   "outputs": [],
   "source": []
  }
 ],
 "metadata": {
  "interpreter": {
   "hash": "d5ca3ce4cf15f4ed9ed6c2889abf840b218b6682774e4471211aa406cb3fa19d"
  },
  "kernelspec": {
   "display_name": "Python 3.9.6 ('venv': venv)",
   "language": "python",
   "name": "python3"
  },
  "language_info": {
   "codemirror_mode": {
    "name": "ipython",
    "version": 3
   },
   "file_extension": ".py",
   "mimetype": "text/x-python",
   "name": "python",
   "nbconvert_exporter": "python",
   "pygments_lexer": "ipython3",
   "version": "3.9.6"
  },
  "orig_nbformat": 4
 },
 "nbformat": 4,
 "nbformat_minor": 2
}
